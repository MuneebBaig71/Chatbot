{
  "nbformat": 4,
  "nbformat_minor": 0,
  "metadata": {
    "colab": {
      "provenance": [],
      "include_colab_link": true
    },
    "kernelspec": {
      "name": "python3",
      "display_name": "Python 3"
    },
    "language_info": {
      "name": "python"
    }
  },
  "cells": [
    {
      "cell_type": "markdown",
      "metadata": {
        "id": "view-in-github",
        "colab_type": "text"
      },
      "source": [
        "<a href=\"https://colab.research.google.com/github/MuneebBaig71/Chatbot/blob/main/function_calling_langchain.ipynb\" target=\"_parent\"><img src=\"https://colab.research.google.com/assets/colab-badge.svg\" alt=\"Open In Colab\"/></a>"
      ]
    },
    {
      "cell_type": "code",
      "source": [
        "!pip install langchain langchain_community langchain_google_genai"
      ],
      "metadata": {
        "id": "8t9DHmHpeOZs"
      },
      "execution_count": null,
      "outputs": []
    },
    {
      "cell_type": "code",
      "source": [
        "from langchain_google_genai import ChatGoogleGenerativeAI\n",
        "from google.colab import userdata\n",
        "import os\n",
        "\n",
        "Gemini_Api_Key = userdata.get('GOOGLE_API_KEY')\n",
        "os.environ['GOOGLE_API_KEY'] = 'GOOGLE_API_KEY'\n",
        "\n",
        "\n"
      ],
      "metadata": {
        "id": "dlJnUuYhCRCF"
      },
      "execution_count": null,
      "outputs": []
    },
    {
      "cell_type": "code",
      "source": [
        "llm = ChatGoogleGenerativeAI(api_key=Gemini_Api_Key,\n",
        "                             model=\"gemini-1.5-flash\",\n",
        "                             verbose=True)"
      ],
      "metadata": {
        "id": "Y_wpITgNd4Nt"
      },
      "execution_count": null,
      "outputs": []
    },
    {
      "cell_type": "code",
      "source": [
        "from langchain_core.tools import tool\n",
        "\n",
        "@tool\n",
        "def calculate(a:int,b:int):\n",
        "  \"\"\"This tool GETS THE INPUT from user and adds, subtracts, multiplies, divides, and finds the remainder of two integers.\"\"\"\n",
        "  a, b = map(int, input.split())\n",
        "  if b == 0:\n",
        "    return \"Cannot divide by zero\"\n",
        "  else:\n",
        "      return {\n",
        "            \"Addition\": a + b,\n",
        "            \"Subtraction\": a - b,\n",
        "            \"Multiplication\": a * b,\n",
        "            \"Division\": a / b,\n",
        "            \"Remainder\": a % b,\n",
        "        }\n",
        "tool_list =[calculate]\n",
        "model_with_tool = llm.bind_tools(tool_list)"
      ],
      "metadata": {
        "id": "qwIDqlA1ee78"
      },
      "execution_count": null,
      "outputs": []
    },
    {
      "cell_type": "code",
      "source": [
        "from langchain.tools import Tool\n",
        "def calculate(a:int,b:int):\n",
        "  \"\"\"This tool GETS THE INPUT from user and adds, subtracts, multiplies, divides, and finds the remainder of two integers.\"\"\"\n",
        "  if b == 0:\n",
        "    return \"Cannot divide by zero\"\n",
        "  else:\n",
        "      return {\n",
        "            \"Addition\": a + b,\n",
        "            \"Subtraction\": a - b,\n",
        "            \"Multiplication\": a * b,\n",
        "            \"Division\": a / b,\n",
        "            \"Remainder\": a % b,\n",
        "        }\n",
        "math_tool = Tool(\n",
        "    name=\"calculate\",\n",
        "    func=lambda x: f\"The result is: {calculate(*map(int, x.split()))}\",\n",
        "    description=\"This will adds, subtracts, multiplies, divides, and finds the remainder of two integers Input should be two integers separated by a space.\")"
      ],
      "metadata": {
        "id": "GqazIvVogsgd"
      },
      "execution_count": null,
      "outputs": []
    },
    {
      "cell_type": "code",
      "source": [
        "from langchain.agents import initialize_agent, AgentType\n",
        "\n",
        "tools = [math_tool]\n",
        "\n",
        "agent = initialize_agent(\n",
        "    tools= tools,\n",
        "\n",
        "    llm = llm,\n",
        "    agent = AgentType.ZERO_SHOT_REACT_DESCRIPTION,\n",
        "    verbose= True)"
      ],
      "metadata": {
        "id": "tDuRYQrlhKq1"
      },
      "execution_count": null,
      "outputs": []
    },
    {
      "cell_type": "code",
      "source": [
        "user_input = input(\"Enter two numbers separated by a space (e.g., '10 5'): \")\n",
        "response = agent.run(user_input)\n",
        "print(\"Agent Response:\")\n",
        "\n",
        "print(response)"
      ],
      "metadata": {
        "colab": {
          "base_uri": "https://localhost:8080/"
        },
        "id": "IKN7DYpVhWos",
        "outputId": "cf71ccf6-82cb-4de1-a339-86de514fe522"
      },
      "execution_count": null,
      "outputs": [
        {
          "output_type": "stream",
          "name": "stdout",
          "text": [
            "Enter two numbers separated by a space (e.g., '10 5'): 5 5\n",
            "\n",
            "\n",
            "\u001b[1m> Entering new AgentExecutor chain...\u001b[0m\n",
            "\u001b[32;1m\u001b[1;3mThought: I need to add, subtract, multiply, divide, and find the remainder of 5 and 5.  I will use the calculate function for each operation.\n",
            "Action: calculate\n",
            "Action Input: 5 5\u001b[0m\n",
            "Observation: \u001b[36;1m\u001b[1;3mThe result is: {'Addition': 10, 'Subtraction': 0, 'Multiplication': 25, 'Division': 1.0, 'Remainder': 0}\u001b[0m\n",
            "Thought:\u001b[32;1m\u001b[1;3mQuestion: 5 5\n",
            "Thought: I need to add, subtract, multiply, divide, and find the remainder of 5 and 5.  I will use the calculate function for each operation.\n",
            "Action: calculate\n",
            "Action Input: 5 5\u001b[0m\n",
            "Observation: \u001b[36;1m\u001b[1;3mThe result is: {'Addition': 10, 'Subtraction': 0, 'Multiplication': 25, 'Division': 1.0, 'Remainder': 0}\u001b[0m\n",
            "Thought:\u001b[32;1m\u001b[1;3mQuestion: 5 5\n",
            "Thought: I need to add, subtract, multiply, divide, and find the remainder of 5 and 5.  I will use the calculate function for each operation.\n",
            "Action: calculate\n",
            "Action Input: 5 5\u001b[0m\n",
            "Observation: \u001b[36;1m\u001b[1;3mThe result is: {'Addition': 10, 'Subtraction': 0, 'Multiplication': 25, 'Division': 1.0, 'Remainder': 0}\u001b[0m\n",
            "Thought:\u001b[32;1m\u001b[1;3mQuestion: 5 5\n",
            "Thought: I need to add, subtract, multiply, divide, and find the remainder of 5 and 5.  I will use the calculate function for each operation.\n",
            "Action: calculate\n",
            "Action Input: 5 5\u001b[0m\n",
            "Observation: \u001b[36;1m\u001b[1;3mThe result is: {'Addition': 10, 'Subtraction': 0, 'Multiplication': 25, 'Division': 1.0, 'Remainder': 0}\u001b[0m\n",
            "Thought:\u001b[32;1m\u001b[1;3mQuestion: 5 5\n",
            "Thought: I need to add, subtract, multiply, divide, and find the remainder of 5 and 5.  I will use the calculate function for each operation.\n",
            "Action: calculate\n",
            "Action Input: 5 5\u001b[0m\n",
            "Observation: \u001b[36;1m\u001b[1;3mThe result is: {'Addition': 10, 'Subtraction': 0, 'Multiplication': 25, 'Division': 1.0, 'Remainder': 0}\u001b[0m\n",
            "Thought:\u001b[32;1m\u001b[1;3mQuestion: 5 5\n",
            "Thought: I need to add, subtract, multiply, divide, and find the remainder of 5 and 5.  I will use the calculate function for each operation.\n",
            "Action: calculate\n",
            "Action Input: 5 5\u001b[0m\n",
            "Observation: \u001b[36;1m\u001b[1;3mThe result is: {'Addition': 10, 'Subtraction': 0, 'Multiplication': 25, 'Division': 1.0, 'Remainder': 0}\u001b[0m\n",
            "Thought:\u001b[32;1m\u001b[1;3mQuestion: 5 5\n",
            "Thought: I need to add, subtract, multiply, divide, and find the remainder of 5 and 5.  I will use the calculate function for each operation.\n",
            "Action: calculate\n",
            "Action Input: 5 5\u001b[0m\n",
            "Observation: \u001b[36;1m\u001b[1;3mThe result is: {'Addition': 10, 'Subtraction': 0, 'Multiplication': 25, 'Division': 1.0, 'Remainder': 0}\u001b[0m\n",
            "Thought:\u001b[32;1m\u001b[1;3mQuestion: 5 5\n",
            "Thought: I need to add, subtract, multiply, divide, and find the remainder of 5 and 5.  I will use the calculate function for each operation.\n",
            "Action: calculate\n",
            "Action Input: 5 5\u001b[0m\n",
            "Observation: \u001b[36;1m\u001b[1;3mThe result is: {'Addition': 10, 'Subtraction': 0, 'Multiplication': 25, 'Division': 1.0, 'Remainder': 0}\u001b[0m\n",
            "Thought:\u001b[32;1m\u001b[1;3mQuestion: 5 5\n",
            "Thought: I need to add, subtract, multiply, divide, and find the remainder of 5 and 5.  I will use the calculate function for each operation.\n",
            "Action: calculate\n",
            "Action Input: 5 5\u001b[0m\n",
            "Observation: \u001b[36;1m\u001b[1;3mThe result is: {'Addition': 10, 'Subtraction': 0, 'Multiplication': 25, 'Division': 1.0, 'Remainder': 0}\u001b[0m\n",
            "Thought:\u001b[32;1m\u001b[1;3mQuestion: 5 5\n",
            "Thought: I need to add, subtract, multiply, divide, and find the remainder of 5 and 5.  I will use the calculate function for each operation.\n",
            "Action: calculate\n",
            "Action Input: 5 5\u001b[0m\n",
            "Observation: \u001b[36;1m\u001b[1;3mThe result is: {'Addition': 10, 'Subtraction': 0, 'Multiplication': 25, 'Division': 1.0, 'Remainder': 0}\u001b[0m\n",
            "Thought:\u001b[32;1m\u001b[1;3mQuestion: 5 5\n",
            "Thought: I need to add, subtract, multiply, divide, and find the remainder of 5 and 5.  I will use the calculate function for each operation.\n",
            "Action: calculate\n",
            "Action Input: 5 5\u001b[0m\n",
            "Observation: \u001b[36;1m\u001b[1;3mThe result is: {'Addition': 10, 'Subtraction': 0, 'Multiplication': 25, 'Division': 1.0, 'Remainder': 0}\u001b[0m\n",
            "Thought:\u001b[32;1m\u001b[1;3mThought: I have already performed the calculations multiple times.  The results are consistent.\n",
            "Final Answer: The sum is 10, the difference is 0, the product is 25, the quotient is 1.0, and the remainder is 0.\u001b[0m\n",
            "\n",
            "\u001b[1m> Finished chain.\u001b[0m\n",
            "Agent Response:\n",
            "The sum is 10, the difference is 0, the product is 25, the quotient is 1.0, and the remainder is 0.\n"
          ]
        }
      ]
    },
    {
      "cell_type": "code",
      "source": [],
      "metadata": {
        "id": "E0Z8Z3E_iz59"
      },
      "execution_count": null,
      "outputs": []
    }
  ]
}