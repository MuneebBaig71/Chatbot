{
  "nbformat": 4,
  "nbformat_minor": 0,
  "metadata": {
    "colab": {
      "provenance": [],
      "include_colab_link": true
    },
    "kernelspec": {
      "name": "python3",
      "display_name": "Python 3"
    },
    "language_info": {
      "name": "python"
    }
  },
  "cells": [
    {
      "cell_type": "markdown",
      "metadata": {
        "id": "view-in-github",
        "colab_type": "text"
      },
      "source": [
        "<a href=\"https://colab.research.google.com/github/MuneebBaig71/Chatbot/blob/main/RAG.ipynb\" target=\"_parent\"><img src=\"https://colab.research.google.com/assets/colab-badge.svg\" alt=\"Open In Colab\"/></a>"
      ]
    },
    {
      "cell_type": "code",
      "source": [
        "!pip install --quiet --upgrade langchain-text-splitters langchain-community langchain-google-genai  langchain-pinecone"
      ],
      "metadata": {
        "id": "ot1xO7MgQd8W",
        "collapsed": true
      },
      "execution_count": 1,
      "outputs": []
    },
    {
      "cell_type": "code",
      "source": [
        "!pip install -qU pypdf"
      ],
      "metadata": {
        "id": "rokqoCSyQnED",
        "colab": {
          "base_uri": "https://localhost:8080/"
        },
        "collapsed": true,
        "outputId": "b728f272-3a59-4137-b7d8-1440774f14ca"
      },
      "execution_count": 2,
      "outputs": [
        {
          "output_type": "stream",
          "name": "stdout",
          "text": [
            "\u001b[?25l   \u001b[90m━━━━━━━━━━━━━━━━━━━━━━━━━━━━━━━━━━━━━━━━\u001b[0m \u001b[32m0.0/298.0 kB\u001b[0m \u001b[31m?\u001b[0m eta \u001b[36m-:--:--\u001b[0m\r\u001b[2K   \u001b[91m━━━━━━━━━━━━\u001b[0m\u001b[90m╺\u001b[0m\u001b[90m━━━━━━━━━━━━━━━━━━━━━━━━━━━\u001b[0m \u001b[32m92.2/298.0 kB\u001b[0m \u001b[31m2.6 MB/s\u001b[0m eta \u001b[36m0:00:01\u001b[0m\r\u001b[2K   \u001b[90m━━━━━━━━━━━━━━━━━━━━━━━━━━━━━━━━━━━━━━━━\u001b[0m \u001b[32m298.0/298.0 kB\u001b[0m \u001b[31m4.5 MB/s\u001b[0m eta \u001b[36m0:00:00\u001b[0m\n",
            "\u001b[?25h"
          ]
        }
      ]
    },
    {
      "cell_type": "code",
      "source": [
        "import os\n",
        "from google.colab import userdata\n",
        "userdata.get('GOOGLE_API_KEY')\n",
        "userdata.get('Pinecone_DB')\n",
        "os.environ['GOOGLE_API_KEY'] = userdata.get('GOOGLE_API_KEY')\n",
        "os.environ['Pinecone_DB'] = userdata.get('Pinecone_DB')"
      ],
      "metadata": {
        "id": "suwcB5x9QusT"
      },
      "execution_count": 29,
      "outputs": []
    },
    {
      "cell_type": "code",
      "source": [
        "# Ensure your VertexAI credentials are configured\n",
        "\n",
        "from langchain_google_genai import ChatGoogleGenerativeAI\n",
        "llm = ChatGoogleGenerativeAI(model=\"gemini-1.5-flash\")"
      ],
      "metadata": {
        "id": "tyuHHMJtQzrK"
      },
      "execution_count": 30,
      "outputs": []
    },
    {
      "cell_type": "code",
      "source": [
        "from langchain_google_genai import GoogleGenerativeAIEmbeddings\n",
        "\n",
        "embeddings = GoogleGenerativeAIEmbeddings(model=\"models/embedding-001\")\n",
        "embeddings.embed_query(\"Hello world\")"
      ],
      "metadata": {
        "id": "eXXfGU4IQ_mk",
        "collapsed": true
      },
      "execution_count": null,
      "outputs": []
    },
    {
      "cell_type": "code",
      "source": [
        "from langchain_pinecone import PineconeVectorStore\n",
        "from pinecone import Pinecone,ServerlessSpec\n",
        "\n",
        "api_key = os.environ.get('Pinecone_DB')\n",
        "pc = Pinecone(api_key= api_key, environment='us-east-1')\n",
        "index_name = \"quickstart2\"\n",
        "\n",
        "pc.create_index(\n",
        "      name=index_name,\n",
        "      dimension=768, # Replace with your model dimensions\n",
        "      metric=\"cosine\", # Replace with your model metric\n",
        "      spec=ServerlessSpec(\n",
        "          cloud=\"aws\",\n",
        "          region=\"us-east-1\"\n",
        "      )\n",
        "  )\n",
        "\n",
        "index = pc.Index(index_name)\n",
        "\n",
        "vector_store = PineconeVectorStore(embedding=embeddings, index=index)"
      ],
      "metadata": {
        "id": "bGq3Ey11h2uE"
      },
      "execution_count": 32,
      "outputs": []
    },
    {
      "cell_type": "code",
      "source": [
        "from langchain.document_loaders import PyPDFLoader\n",
        "from langchain.text_splitter import RecursiveCharacterTextSplitter\n",
        "\n",
        "# Load documents\n",
        "loader = PyPDFLoader(\"Human_Spirit.pdf\")  # Replace with your file\n",
        "documents = loader.load()\n",
        "\n",
        "\n",
        "# Split documents into chunks\n",
        "text_splitter = RecursiveCharacterTextSplitter(chunk_size=500, chunk_overlap=50)\n",
        "docs = text_splitter.split_documents(documents)\n",
        "print(docs)"
      ],
      "metadata": {
        "colab": {
          "base_uri": "https://localhost:8080/"
        },
        "id": "W9CX7WWUmgy7",
        "outputId": "b021a0eb-8e12-4e2a-9d64-76bda1ad9ddf"
      },
      "execution_count": 33,
      "outputs": [
        {
          "output_type": "stream",
          "name": "stdout",
          "text": [
            "[Document(metadata={'source': 'Human_Spirit.pdf', 'page': 0}, page_content='The Resilience of the Human Spirit\\nThroughout  history,  the  resilience  of  the  human  spirit  has  been  a  recurring  theme,\\nunderscoring  humanity’s  ability  to  endure,  adapt,  and  overcome  adversity.  This\\nremarkable capacity is not limited to extraordinary individuals but is an intrinsic part of\\nour shared human experience. From natural disasters to personal setbacks, the human\\nspirit  continually  demonstrates  an  unwavering  determination  to  persevere,  often'), Document(metadata={'source': 'Human_Spirit.pdf', 'page': 0}, page_content='emerging stronger and more enlightened.\\nOne  of  the  most  profound  examples  of  human  resilience  is  seen  in  the  aftermath  of\\nnatural  calamities.  Earthquakes,  hurricanes,  and  tsunamis  have  devastated  entire\\ncommunities, leaving behind immense destruction and despair. Yet, in these moments\\nof  darkness,  humanity’s  collective  resilience  shines  brightly.  Communities  rally\\ntogether,  offering  support  and  rebuilding  what  was  lost.  Consider  the  2010  Haiti'), Document(metadata={'source': 'Human_Spirit.pdf', 'page': 0}, page_content='earthquake,  which  left  millions  homeless  and  thousands  dead.  Amid  the  chaos,  the\\nHaitian people’s courage and determination inspired the world. International aid poured\\nin,  and  resilient  locals  worked  tirelessly  to  restore  normalcy,  showcasing  the\\nindomitable human spirit.\\nOn  a  personal  level,  stories  of  individuals  overcoming  adversity  are  equally  inspiring.\\nHelen  Keller,  blind  and  deaf  from  a  young  age,  became  a  symbol  of  perseverance'), Document(metadata={'source': 'Human_Spirit.pdf', 'page': 0}, page_content='through her remarkable achievements in education and advocacy. Despite her physical\\nlimitations, Keller’s determination allowed her to graduate from college and become a\\nbeacon of hope for others with disabilities. Her story reminds us that resilience is not\\nabout avoiding hardships but confronting them with courage and an unwavering belief\\nin one’s potential.'), Document(metadata={'source': 'Human_Spirit.pdf', 'page': 1}, page_content='The resilience of the human spirit is not limited to overcoming physical challenges. It\\nextends  to  emotional  and  psychological  realms,  where  individuals  navigate  the\\ncomplexities of loss, failure, and change. Consider the experiences of refugees fleeing\\nwar-torn countries. They often face unimaginable hardships—losing loved ones, homes,\\nand a sense of security. Yet, many rebuild their lives in foreign lands, integrating into'), Document(metadata={'source': 'Human_Spirit.pdf', 'page': 1}, page_content='new cultures and striving to provide better futures for their children. Their stories are\\ntestaments  to  the  strength  of  the  human  spirit  when  confronted  with  overwhelming\\nadversity.\\nScience and innovation have also been driven by this resilience. During the COVID-19\\npandemic, the world witnessed unprecedented challenges, but it also saw humanity’s\\ncapacity to adapt and innovate under pressure. Scientists developed vaccines at record'), Document(metadata={'source': 'Human_Spirit.pdf', 'page': 1}, page_content='speed,  healthcare  workers  risked  their  lives  to  save  others,  and  ordinary  people\\nadapted to new ways of living and working. The pandemic underscored the importance\\nof resilience not just individually but as a global community.\\nThe resilience of the human spirit is often fueled by hope and the belief that challenges,\\nno matter how insurmountable they may seem, can be overcome. Hope provides the\\nmotivation to take the next step, even when the path ahead is uncertain. It is this hope'), Document(metadata={'source': 'Human_Spirit.pdf', 'page': 1}, page_content='that  has  enabled  humanity  to  progress,  achieving  remarkable  feats  and  continuously\\nstriving for a better world.\\nIn conclusion, the resilience of the human spirit is an enduring quality that defines us as\\na  species.  Whether  confronting  natural  disasters,  personal  struggles,  or  global  crises,\\nhumanity’s  ability  to  persevere  is  a  testament  to  our  collective  strength  and\\ndetermination. This resilience is not merely a response to adversity but a celebration of'), Document(metadata={'source': 'Human_Spirit.pdf', 'page': 1}, page_content='the boundless potential within each of us to rise, rebuild, and thrive.')]\n"
          ]
        }
      ]
    },
    {
      "cell_type": "code",
      "source": [
        "from tqdm import tqdm\n",
        "\n",
        "# Create embeddings and upload to Pinecone\n",
        "vectors=[]\n",
        "for doc in tqdm(docs):\n",
        "    vector = embeddings.embed_query(doc.page_content)\n",
        "    # Generate a unique ID for each document (e.g., UUID or hash)\n",
        "    doc_id = str(hash(doc.page_content))\n",
        "    metadata = {\"text\": doc.page_content}\n",
        "    # Upsert the vector with a unique ID\n",
        "    index.upsert(vectors=[(doc_id, vector,metadata)])"
      ],
      "metadata": {
        "id": "Md2DZmnSpphK",
        "colab": {
          "base_uri": "https://localhost:8080/"
        },
        "outputId": "8c065627-ad93-49e2-ae8a-4e4bdb6e025e"
      },
      "execution_count": 34,
      "outputs": [
        {
          "output_type": "stream",
          "name": "stderr",
          "text": [
            "100%|██████████| 9/9 [00:02<00:00,  3.22it/s]\n"
          ]
        }
      ]
    },
    {
      "cell_type": "code",
      "source": [
        "from langchain.vectorstores import Pinecone\n",
        "\n",
        "\n",
        "retriever=  Pinecone(index=index, embedding=embeddings, text_key=\"text\")\n",
        "\n",
        "\n",
        "# Convert it into a retriever compatible with RetrievalQA\n",
        "retriever = vector_store.as_retriever()"
      ],
      "metadata": {
        "id": "JytvJ8Gzr3Pk"
      },
      "execution_count": 35,
      "outputs": []
    },
    {
      "cell_type": "code",
      "source": [
        "from langchain.chains import RetrievalQA\n",
        "\n",
        "qa_chain = RetrievalQA.from_chain_type(\n",
        "    llm=llm,\n",
        "    chain_type=\"refine\",  # Other options: \"map_reduce\", \"refine\"\n",
        "    retriever=retriever\n",
        "\n",
        ")"
      ],
      "metadata": {
        "id": "WmXwCd2aDNyt"
      },
      "execution_count": 36,
      "outputs": []
    },
    {
      "cell_type": "code",
      "source": [
        "while True:\n",
        "  user_input = input(\"Ask something: \")\n",
        "  if user_input == \"quit\":\n",
        "    break\n",
        "  else:\n",
        "    response = qa_chain.run(user_input)\n",
        "    print(response)"
      ],
      "metadata": {
        "id": "nZerw37jw9QI",
        "colab": {
          "base_uri": "https://localhost:8080/"
        },
        "outputId": "45959923-6a03-4715-eee8-7bdef5c4e0e8"
      },
      "execution_count": 37,
      "outputs": [
        {
          "name": "stdout",
          "output_type": "stream",
          "text": [
            "Ask something: hi\n",
            "You still haven't provided an original answer to refine.  The new context you've added describes the resilience of people facing adversity, using examples of cultural striving and scientific innovation during the COVID-19 pandemic.  This is helpful thematic information, but I need the *original answer* to refine it.  Please provide the original answer you want me to improve.\n",
            "\n",
            "Ask something: generate me a summary\n",
            "The text celebrates human resilience as a defining characteristic, highlighting its role in driving progress and achieving remarkable feats throughout history.  It uses examples of overcoming both personal struggles and large-scale crises (implicitly referencing natural disasters and global events like the COVID-19 pandemic) to illustrate this enduring quality.  The conclusion emphasizes that this resilience isn't simply a reaction to hardship, but an active force propelling humanity towards a better future, showcasing our collective strength and determination.\n",
            "\n",
            "Ask something: quit\n"
          ]
        }
      ]
    },
    {
      "cell_type": "code",
      "source": [],
      "metadata": {
        "id": "LxoILPpdDBT5"
      },
      "execution_count": null,
      "outputs": []
    }
  ]
}