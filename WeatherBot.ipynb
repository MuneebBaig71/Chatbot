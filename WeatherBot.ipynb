{
  "nbformat": 4,
  "nbformat_minor": 0,
  "metadata": {
    "colab": {
      "provenance": [],
      "authorship_tag": "ABX9TyO7fnhje7lnksDRio6jizjP",
      "include_colab_link": true
    },
    "kernelspec": {
      "name": "python3",
      "display_name": "Python 3"
    },
    "language_info": {
      "name": "python"
    }
  },
  "cells": [
    {
      "cell_type": "markdown",
      "metadata": {
        "id": "view-in-github",
        "colab_type": "text"
      },
      "source": [
        "<a href=\"https://colab.research.google.com/github/MuneebBaig71/Chatbot/blob/main/WeatherBot.ipynb\" target=\"_parent\"><img src=\"https://colab.research.google.com/assets/colab-badge.svg\" alt=\"Open In Colab\"/></a>"
      ]
    },
    {
      "cell_type": "code",
      "execution_count": null,
      "metadata": {
        "id": "ls2PczptYHyR"
      },
      "outputs": [],
      "source": [
        "!pip install langchain langchain_community langchain_google_genai"
      ]
    },
    {
      "cell_type": "code",
      "source": [
        "from google.colab import userdata\n",
        "import os\n",
        "\n",
        "os.environ['GOOGLE_API_KEY'] = userdata.get('GOOGLE_API_KEY')\n",
        "os.environ['Weather_API'] = userdata.get('Weather_API')\n"
      ],
      "metadata": {
        "id": "2ME8s4UMYaUP"
      },
      "execution_count": null,
      "outputs": []
    },
    {
      "cell_type": "code",
      "source": [
        "from langchain_google_genai import ChatGoogleGenerativeAI\n",
        "\n",
        "llm=ChatGoogleGenerativeAI(model='gemini-1.5-flash',verbose=True)"
      ],
      "metadata": {
        "id": "Tpm_a8m5YyQB"
      },
      "execution_count": null,
      "outputs": []
    },
    {
      "source": [
        "import requests\n",
        "from langchain_core.tools import tool\n",
        "\n",
        "@tool\n",
        "def get_weather(city: str):\n",
        "    \"\"\"Gets the current weather in a given city.\n",
        "\n",
        "    Args:\n",
        "        city: The city to get the weather for.\n",
        "\n",
        "    Returns:\n",
        "        A string describing the weather in the given city.\n",
        "    \"\"\"\n",
        "    api_key = os.environ['Weather_API']  # Use environment variable for API key\n",
        "    url = f\"http://api.weatherapi.com/v1/current.json?key={api_key}&q={city}&aqi=no\"\n",
        "\n",
        "    response = requests.get(url)\n",
        "    if response.status_code == 200:\n",
        "        data = response.json()\n",
        "        weather = data[\"current\"][\"condition\"][\"text\"]\n",
        "        temperature = data[\"current\"][\"temp_c\"]\n",
        "        return f\"The weather in {city} is {weather} with a temperature of {temperature}°C.\"\n",
        "    else:\n",
        "        return f\"Unable to fetch weather data for {city}. Please check the city name or try again later.\"\n",
        "llm_with_tools = llm.bind_tools([get_weather])"
      ],
      "cell_type": "code",
      "metadata": {
        "id": "x5zHcGClfisE"
      },
      "execution_count": null,
      "outputs": []
    },
    {
      "cell_type": "code",
      "source": [
        "tools_list=[get_weather]\n",
        "model_with_tools = llm.bind_tools(tools_list)"
      ],
      "metadata": {
        "id": "Kolz6z0jf2nn"
      },
      "execution_count": null,
      "outputs": []
    },
    {
      "cell_type": "code",
      "source": [
        "from langchain.agents import initialize_agent, AgentType\n",
        "\n",
        "# List of tools\n",
        "tools = [get_weather]\n",
        "\n",
        "# Initialize the agent\n",
        "agent = initialize_agent(\n",
        "    tools=tools,                        # Provide the tools\n",
        "    llm=llm,                            # LLM for fallback\n",
        "    agent=AgentType.ZERO_SHOT_REACT_DESCRIPTION,  # Agent type\n",
        "    # verbose=True                        # Enable debugging output\n",
        ")"
      ],
      "metadata": {
        "id": "kK2ZnPKbgDzj"
      },
      "execution_count": null,
      "outputs": []
    },
    {
      "cell_type": "code",
      "source": [
        "# Run the agent\n",
        "agent.run(\"What is the weather in gujar khan?\")"
      ],
      "metadata": {
        "colab": {
          "base_uri": "https://localhost:8080/",
          "height": 35
        },
        "id": "cdGHlHGngd0Q",
        "outputId": "982004f5-0542-4106-fec4-c92de0c7d666"
      },
      "execution_count": null,
      "outputs": [
        {
          "output_type": "execute_result",
          "data": {
            "text/plain": [
              "'The weather in Gujar Khan is Clear with a temperature of 7.5°C.'"
            ],
            "application/vnd.google.colaboratory.intrinsic+json": {
              "type": "string"
            }
          },
          "metadata": {},
          "execution_count": 33
        }
      ]
    },
    {
      "cell_type": "code",
      "source": [],
      "metadata": {
        "id": "PVAMBNUOglPI"
      },
      "execution_count": null,
      "outputs": []
    }
  ]
}